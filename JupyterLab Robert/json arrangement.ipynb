{
 "cells": [
  {
   "cell_type": "code",
   "execution_count": 2,
   "metadata": {},
   "outputs": [],
   "source": [
    "# Create dictionary of interactions\n",
    "def int_dict(jsondata):\n",
    "    std = {} #the dictionary\n",
    "    stay = 1 #counter for stays in buildings\n",
    "    for i in jsondata: #loop over persons in json file\n",
    "        if len(jsondata[i])>1: #tests if a given person i has more than one entry\n",
    "            for j in jsondata[i]: #loops over the trips j of a given person i\n",
    "                auxd = {} #auxiliar dictionary variable\n",
    "                for k in j: #loops over entries in each trip and if statements are used to create new labels\n",
    "                    if k=='source':\n",
    "                        if j[k] == 'Home' or j[k] == 'Apartment':\n",
    "                            auxd['class'] = 'residential'\n",
    "                        else:\n",
    "                            auxd['class'] = 'nonresidential'\n",
    "                        auxd['subclass'] = j[k]\n",
    "                    elif k =='sourceIndex':\n",
    "                        auxd['building'] = j[k]\n",
    "                    elif k =='destinationIndex':\n",
    "                        pass\n",
    "                    elif k =='destination':\n",
    "                        pass\n",
    "                    else:\n",
    "                        auxd[k] = j[k]\n",
    "                    auxd['person'] = i\n",
    "                std[str(stay)] = auxd\n",
    "                stay = stay+1\n",
    "            auxd={}\n",
    "            auxd['departureTime'] = 86400\n",
    "            auxd['person'] = i\n",
    "            auxd['arrivedAtSource'] = std[str(stay-1)]['arrivedAtSource']+8*60\n",
    "            auxd['class'] = 'residential'\n",
    "            auxd['subclass'] = jsondata[i][0]['source']\n",
    "            auxd['building'] = jsondata[i][0]['sourceIndex']\n",
    "            std[str(stay)] = auxd\n",
    "        else: # if the length of the trip list is 1 that means that the person stayed at home so...\n",
    "            auxd={}\n",
    "            auxd['departureTime'] = 86400\n",
    "            auxd['person'] = i\n",
    "            auxd['arrivedAtSource'] = 0\n",
    "            auxd['class'] = 'residential'\n",
    "            auxd['subclass'] = jsondata[i][0]['source']\n",
    "            auxd['building'] = jsondata[i][0]['sourceIndex']\n",
    "            std[str(stay)] = auxd\n",
    "        stay = stay+1\n",
    "    return std"
   ]
  },
  {
   "cell_type": "code",
   "execution_count": 3,
   "metadata": {},
   "outputs": [],
   "source": [
    "# Function that calculates half the contact matrix and symmetrices it\n",
    "def contactmatrix(std):\n",
    "    cmat = np.zeros((len(jsondata),len(jsondata)))\n",
    "    for stay in std:\n",
    "        for check in range(int(stay)+1,len(std)+1):\n",
    "            sc = str(check)\n",
    "            if std[sc]['person'] == std[stay]['person']:\n",
    "                pass\n",
    "            elif std[sc]['class'] == std[stay]['class'] and std[sc]['building'] == std[stay]['building']:\n",
    "                spstay = [int(std[stay]['arrivedAtSource']),int(std[stay]['departureTime'])]\n",
    "                scstay = [int(std[sc]['arrivedAtSource']),int(std[sc]['departureTime'])]\n",
    "                stperson = int(std[stay]['person'])\n",
    "                scperson = int(std[sc]['person'])\n",
    "                if spstay[0] in range(scstay[0],scstay[1]+1):\n",
    "                    if spstay[1] in range(scstay[0],scstay[1]+1):\n",
    "                        cmat[stperson][scperson] = cmat[stperson][scperson]+spstay[1]-spstay[0]\n",
    "                    else:\n",
    "                        cmat[stperson][scperson] = cmat[stperson][scperson]+scstay[1]-spstay[0]\n",
    "                elif spstay[1] in range(scstay[0],scstay[1]+1):\n",
    "                    cmat[stperson][scperson] = cmat[stperson][scperson]+spstay[1]-scstay[0]\n",
    "\n",
    "    for i in range(len(jsondata)):\n",
    "        for j in range(0,i):\n",
    "            cmat[i][j] = cmat[j][i]\n",
    "    return cmat"
   ]
  },
  {
   "cell_type": "code",
   "execution_count": 4,
   "metadata": {},
   "outputs": [
    {
     "data": {
      "image/png": "[encoded data removed]",
      "text/plain": [
       "<Figure size 432x288 with 1 Axes>"
      ]
     },
     "metadata": {
      "needs_background": "light"
     },
     "output_type": "display_data"
    }
   ],
   "source": [
    "import json\n",
    "import numpy as np\n",
    "import matplotlib.pyplot as plt\n",
    "import pandas as pd\n",
    "\n",
    "# Goal: Get a dictionary with buildings and people who have been there\n",
    "\n",
    "# Opening schedule file\n",
    "f = open('5Ben.json',)\n",
    "  \n",
    "# returns JSON object as a dictionary\n",
    "jsondata = json.load(f)\n",
    "jlen = len(jsondata)\n",
    "# Closing file\n",
    "f.close()\n",
    "\n",
    "# Working with jsondata and its length: jsondata is a dictionary with a list of dicionaries\n",
    "# Its format corresponds to jsondata['person'][trip number]['label']\n",
    "\n",
    "#print('length of array:',len(jsondata['1']),'\\n') #We can get the number of trips with the length of jsondata['i']\n",
    "    # Check that the prevous comment is true\n",
    "    \n",
    "# Set up array for trip counter\n",
    "agents = []\n",
    "ntrips = []\n",
    "for i in range(0,jlen):\n",
    "    #print('agent number ', i)\n",
    "    agents.append(i)\n",
    "    #print('Number of trips:', len(jsondata['{}'.format(i)]))\n",
    "    ntrips.append(len(jsondata[str(i)]))\n",
    "    #print('\\n')\n",
    "    \n",
    "for i in range(0,len(ntrips)):\n",
    "    if ntrips[i] == 1:\n",
    "        ntrips[i] = 0\n",
    "        \n",
    "unique, counts = np.unique(ntrips, return_counts=True)\n",
    "Dtc = dict(zip(unique, counts))\n",
    "plt.bar(range(len(Dtc)), list(Dtc.values()), align='center')\n",
    "plt.xticks(range(len(Dtc)), list(Dtc.keys()))\n",
    "plt.show()"
   ]
  },
  {
   "cell_type": "code",
   "execution_count": 8,
   "metadata": {},
   "outputs": [],
   "source": [
    "std = int_dict(jsondata)\n",
    "cmat = contactmatrix(std)\n",
    "np.savetxt(\"cmat-Robert.csv\", cmat, delimiter=\",\")"
   ]
  },
  {
   "cell_type": "code",
   "execution_count": 6,
   "metadata": {},
   "outputs": [
    {
     "data": {
      "text/plain": [
       "array([[0., 0., 0., ..., 0., 0., 0.],\n",
       "       [0., 0., 0., ..., 0., 0., 0.],\n",
       "       [0., 0., 0., ..., 0., 0., 0.],\n",
       "       ...,\n",
       "       [0., 0., 0., ..., 0., 0., 0.],\n",
       "       [0., 0., 0., ..., 0., 0., 0.],\n",
       "       [0., 0., 0., ..., 0., 0., 0.]])"
      ]
     },
     "execution_count": 6,
     "metadata": {},
     "output_type": "execute_result"
    }
   ],
   "source": [
    "\n"
   ]
  },
  {
   "cell_type": "code",
   "execution_count": null,
   "metadata": {},
   "outputs": [],
   "source": []
  },
  {
   "cell_type": "code",
   "execution_count": null,
   "metadata": {},
   "outputs": [],
   "source": []
  },
  {
   "cell_type": "code",
   "execution_count": null,
   "metadata": {},
   "outputs": [],
   "source": []
  }
 ],
 "metadata": {
  "kernelspec": {
   "display_name": "Python 3",
   "language": "python",
   "name": "python3"
  },
  "language_info": {
   "codemirror_mode": {
    "name": "ipython",
    "version": 3
   },
   "file_extension": ".py",
   "mimetype": "text/x-python",
   "name": "python",
   "nbconvert_exporter": "python",
   "pygments_lexer": "ipython3",
   "version": "3.7.6"
  }
 },
 "nbformat": 4,
 "nbformat_minor": 4
}
